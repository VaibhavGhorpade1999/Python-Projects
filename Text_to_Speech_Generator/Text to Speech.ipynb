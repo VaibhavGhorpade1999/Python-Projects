{
 "cells": [
  {
   "cell_type": "code",
   "execution_count": 3,
   "id": "05ae83ff-05bb-4406-ba99-c1ebc88a3f65",
   "metadata": {},
   "outputs": [
    {
     "name": "stdin",
     "output_type": "stream",
     "text": [
      "Enter the text you want to convert it into speech: Hello I am Vaibhav Ghorpade. I am an aspiring Data Scientist with a Post-Graduation in Data Analytics and Machine Learning from Imarticus Learning. An engineering grad specializing in Mechanical Engineering and graduated in the year 2021. Interested in pursuing a career in Data science and business analytics with the ability to identify the fine points of data. Well versed in data exploration, data mining, statistical analysis and data visualization techniques. Additionally skilled in leadership, public speaking, problem-solving, and decision making. Looking forward to utilizing these skills in the data science industry.\n"
     ]
    }
   ],
   "source": [
    "from gtts import gTTS\n",
    "import os\n",
    "#User Defined function  to convert text to speech\n",
    "def text_to_speech(input_text):\n",
    "    language = \"en\"\n",
    "    myobj = gTTS(text=input_text, lang=language, slow=False)\n",
    "    myobj.save(\"result.mp4\")\n",
    "    os.system(\"result.mp4\")\n",
    "#Take a input from user \n",
    "input_text=input(\"Enter the text you want to convert it into speech:\")\n",
    "#Run text_to_speech function to convert the input into speech\n",
    "text_to_speech(input_text)"
   ]
  },
  {
   "cell_type": "code",
   "execution_count": null,
   "id": "96f7efe7-e01f-4bee-be8e-b04fe6372085",
   "metadata": {},
   "outputs": [],
   "source": []
  },
  {
   "cell_type": "code",
   "execution_count": null,
   "id": "fe7bbdee-e2e7-4c34-ab0d-e341ecef2e1d",
   "metadata": {},
   "outputs": [],
   "source": []
  }
 ],
 "metadata": {
  "kernelspec": {
   "display_name": "Python 3",
   "language": "python",
   "name": "python3"
  },
  "language_info": {
   "codemirror_mode": {
    "name": "ipython",
    "version": 3
   },
   "file_extension": ".py",
   "mimetype": "text/x-python",
   "name": "python",
   "nbconvert_exporter": "python",
   "pygments_lexer": "ipython3",
   "version": "3.9.12"
  }
 },
 "nbformat": 4,
 "nbformat_minor": 5
}
