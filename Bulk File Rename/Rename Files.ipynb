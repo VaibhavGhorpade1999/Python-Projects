{
 "cells": [
  {
   "cell_type": "code",
   "execution_count": 3,
   "id": "ad8b4ab4-6471-4430-ad80-80819c9bd5d8",
   "metadata": {
    "tags": []
   },
   "outputs": [
    {
     "name": "stdin",
     "output_type": "stream",
     "text": [
      "Enter Path:  D:\\Instagram\n",
      "Enter the New File Name:  Pic\n",
      "\n",
      "UNDO Renaming ? (Y/N):  N\n"
     ]
    },
    {
     "name": "stdout",
     "output_type": "stream",
     "text": [
      "***************** File Renaming Completed. *****************\n"
     ]
    }
   ],
   "source": [
    "'''Bulk File Renaming Application'''\n",
    "\n",
    "'''\n",
    "-> Given a Directory path, Renames the contents of the Directory with the new name provided by the user.\n",
    "\n",
    "'''\n",
    "\n",
    "#OS Module\n",
    "import os\n",
    "import time\n",
    "\n",
    "def bulk_file_rename(path):\n",
    "    ''' Renames the names of the files in the given path with the given New Name with the extensions intact'''\n",
    "    #List of directories in the path\n",
    "    dir_tree = path.split('\\\\')    \n",
    "\n",
    "    #Changing Directory to the provided path\n",
    "    os.chdir(path)\n",
    "\n",
    "    file_list = os.listdir()\n",
    "    if len(file_list) == 0:\n",
    "        return 'The Directory is Empty!!'\n",
    "\n",
    "    #New Name of the file\n",
    "    new_name = input('Enter the New File Name: ').strip()\n",
    "\n",
    "    #To adjust the file numbers at the end of filename according to the no of files in a directory\n",
    "    length = len(str(len(file_list)))\n",
    "    j = 1\n",
    "        \n",
    "    #Looping over the list of files and renaming according to the files' extensions.\n",
    "    for i in file_list:\n",
    "        #if the current item is a directory, then No Extension is needed.\n",
    "        if os.path.isdir(i):\n",
    "            os.rename(i, (new_name + '_') + str(j).rjust(length, '0'))\n",
    "\n",
    "        #if the current item is a File, then extract the extension and append it to the new file name\n",
    "        elif os.path.isfile(i):\n",
    "            #To store the extension of a particular file to avoid inconsistent renaming of file extensions\n",
    "            extension = '.' + i.split('.')[-1]\n",
    "            os.rename(i, (new_name + '_') + str(j).rjust(length, '0') + extension)\n",
    "\n",
    "        j += 1\n",
    "    \n",
    "    \n",
    "#************************************************************************#\n",
    "    ''' Code for Undoing the Rename Operation '''\n",
    "    choice = input('\\nUNDO Renaming ? (Y/N): ')\n",
    "\n",
    "    if choice in ('y', 'Y'):\n",
    "        file_list_new = os.listdir()\n",
    "        \n",
    "        for i in range(len(file_list_new)):\n",
    "            os.rename(file_list_new[i], file_list[i])\n",
    "        \n",
    "        return '***************** UNDO Completed. *****************'\n",
    "\n",
    "    return '***************** File Renaming Completed. *****************'\n",
    "    \n",
    "\n",
    "#Path where you want to rename the files\n",
    "path = input('Enter Path: ').strip()\n",
    "\n",
    "print(bulk_file_rename(path))"
   ]
  },
  {
   "cell_type": "code",
   "execution_count": null,
   "id": "c06015eb-772b-4bc9-bdaa-61f5df73b0af",
   "metadata": {},
   "outputs": [],
   "source": []
  }
 ],
 "metadata": {
  "kernelspec": {
   "display_name": "Python 3",
   "language": "python",
   "name": "python3"
  },
  "language_info": {
   "codemirror_mode": {
    "name": "ipython",
    "version": 3
   },
   "file_extension": ".py",
   "mimetype": "text/x-python",
   "name": "python",
   "nbconvert_exporter": "python",
   "pygments_lexer": "ipython3",
   "version": "3.9.12"
  }
 },
 "nbformat": 4,
 "nbformat_minor": 5
}
