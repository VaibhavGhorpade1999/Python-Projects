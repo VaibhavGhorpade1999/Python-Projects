{
  "nbformat": 4,
  "nbformat_minor": 0,
  "metadata": {
    "colab": {
      "name": "Chapter6 Dictionaries.ipynb",
      "provenance": [],
      "collapsed_sections": []
    },
    "kernelspec": {
      "name": "python3",
      "display_name": "Python 3"
    },
    "language_info": {
      "name": "python"
    }
  },
  "cells": [
    {
      "cell_type": "markdown",
      "source": [
        "Python’s dictionaries, which allow you to \n",
        "connect pieces of related information. You’ll \n",
        "learn how to access the information once it’s \n",
        "in a dictionary and how to modify that information. \n",
        "Because dictionaries can store an almost limitless"
      ],
      "metadata": {
        "id": "fOuv4Ev13ML4"
      }
    },
    {
      "cell_type": "markdown",
      "source": [
        "## A Simple Dictionary"
      ],
      "metadata": {
        "id": "5B4S4fa04akT"
      }
    },
    {
      "cell_type": "code",
      "execution_count": null,
      "metadata": {
        "colab": {
          "base_uri": "https://localhost:8080/"
        },
        "id": "xR6Trjtxwu4R",
        "outputId": "7e375662-c0eb-4146-c675-bd5119aea541"
      },
      "outputs": [
        {
          "output_type": "stream",
          "name": "stdout",
          "text": [
            "black\n",
            "24\n",
            "You have turned 24\n"
          ]
        }
      ],
      "source": [
        "vaibhav = {'colour':'black','age':24}\n",
        "print(vaibhav['colour'])\n",
        "print(vaibhav['age'])\n",
        "new_age = vaibhav['age']\n",
        "print(\"You have turned \" + str(new_age))"
      ]
    },
    {
      "cell_type": "markdown",
      "source": [
        "## Adding New Key-Value Pairs\n",
        "Dictionaries are dynamic structures, and you can add new key-value pairs \n",
        "to a dictionary at any time"
      ],
      "metadata": {
        "id": "8Gj1Ss1z81kD"
      }
    },
    {
      "cell_type": "code",
      "source": [
        "alien_0 = {'color': 'green', 'points': 5}\n",
        "print(alien_0)\n",
        "alien_0['X position']=0\n",
        "alien_0['Y position']=25\n",
        "print(alien_0)"
      ],
      "metadata": {
        "colab": {
          "base_uri": "https://localhost:8080/"
        },
        "id": "TS2GubXb82zh",
        "outputId": "5f94b8c4-430c-4a7d-aa58-419e08fce6ba"
      },
      "execution_count": null,
      "outputs": [
        {
          "output_type": "stream",
          "name": "stdout",
          "text": [
            "{'color': 'green', 'points': 5}\n",
            "{'color': 'green', 'points': 5, 'X position': 0, 'Y position': 25}\n"
          ]
        }
      ]
    },
    {
      "cell_type": "markdown",
      "source": [
        "## Starting with an Empty Dictionary"
      ],
      "metadata": {
        "id": "gQ9JjXPH9glH"
      }
    },
    {
      "cell_type": "code",
      "source": [
        "alien_0 = {}                             #Starting with an Empty Dictionary\n",
        "alien_0['X position']=0\n",
        "alien_0['Y position']=25\n",
        "print(alien_0) \n",
        "alien_0['X position']=23                 #Modifying Values in a Dictionary\n",
        "print(alien_0)"
      ],
      "metadata": {
        "colab": {
          "base_uri": "https://localhost:8080/"
        },
        "id": "vOQmoC_v9iQT",
        "outputId": "6dacde44-6c1b-483a-ffaf-d98e6566b680"
      },
      "execution_count": null,
      "outputs": [
        {
          "output_type": "stream",
          "name": "stdout",
          "text": [
            "{'X position': 0, 'Y position': 25}\n",
            "{'X position': 23, 'Y position': 25}\n"
          ]
        }
      ]
    },
    {
      "cell_type": "code",
      "source": [
        "alien_0={'X_position':1,'Y_position':2,'speed':'high'}\n",
        "print(\"original X_position=\"+str(alien_0['X_position']))\n",
        "if alien_0['speed']=='less':\n",
        "  x_increment=1\n",
        "elif alien_0['speed']=='medium':\n",
        "  x_increment=2\n",
        "else:\n",
        "  x_increment=3\n",
        "alien_0['X_position']=alien_0['X_position']+x_increment\n",
        "print(\"New X_position of alien=\"+str(alien_0['X_position']))\n"
      ],
      "metadata": {
        "colab": {
          "base_uri": "https://localhost:8080/"
        },
        "id": "IVNUbEqJd7M5",
        "outputId": "38828268-e6e7-42a5-b829-d32c099fd080"
      },
      "execution_count": null,
      "outputs": [
        {
          "output_type": "stream",
          "name": "stdout",
          "text": [
            "original X_position=1\n",
            "New X_position of alien=4\n"
          ]
        }
      ]
    },
    {
      "cell_type": "code",
      "source": [
        "#Removing Key-Value Pairs\n",
        "alien_0={'X_position':1,'Y_position':2,'speed':'high'}\n",
        "print(\"original X_position=\"+str(alien_0['X_position']))\n",
        "if alien_0['speed']=='less':\n",
        "  x_increment=1\n",
        "elif alien_0['speed']=='medium':\n",
        "  x_increment=2\n",
        "else:\n",
        "  x_increment=3\n",
        "alien_0['X_position']=alien_0['X_position']+x_increment\n",
        "print(\"New X_position of alien=\"+str(alien_0['X_position']))\n",
        "del alien_0['Y_position']                    #Be aware that the deleted key-value pair is removed permanently. \n",
        "print(alien_0)"
      ],
      "metadata": {
        "colab": {
          "base_uri": "https://localhost:8080/"
        },
        "id": "LbvLEPSXg2n_",
        "outputId": "bae5798d-f738-4e0e-fcd9-0a8d7b6057db"
      },
      "execution_count": null,
      "outputs": [
        {
          "output_type": "stream",
          "name": "stdout",
          "text": [
            "original X_position=1\n",
            "New X_position of alien=4\n",
            "{'X_position': 4, 'speed': 'high'}\n"
          ]
        }
      ]
    },
    {
      "cell_type": "markdown",
      "source": [
        "## A Dictionary of Similar Objects"
      ],
      "metadata": {
        "id": "Gjc9sA-ShjX4"
      }
    },
    {
      "cell_type": "code",
      "source": [
        "favorite_languages = {'jen': 'python','sarah': 'c','edward': 'ruby','phil': 'python'}\n",
        "print(\"sarah's favorite language is \"+favorite_languages['sarah'].title()+\".\")"
      ],
      "metadata": {
        "colab": {
          "base_uri": "https://localhost:8080/"
        },
        "id": "fycY13vahk1g",
        "outputId": "0e268b0f-d52a-4a96-b377-a58977975c0c"
      },
      "execution_count": null,
      "outputs": [
        {
          "output_type": "stream",
          "name": "stdout",
          "text": [
            "sarah's favorite language is C.\n"
          ]
        }
      ]
    },
    {
      "cell_type": "markdown",
      "source": [
        "# Looping Through a Dictionary\n",
        "A single Python dictionary can contain just a few key-value pairs or millions \n",
        "of pairs. Because a dictionary can contain large amounts of data, Python lets \n",
        "you loop through a dictionary. Dictionaries can be used to store information \n",
        "in a variety of ways; therefore, several different ways exist to loop through \n",
        "them. You can loop through all of a dictionary’s key-value pairs, through its \n",
        "keys, or through its values.\n",
        "## Looping Through All Key-Value Pairs\n"
      ],
      "metadata": {
        "id": "-Ie0eiWck_kg"
      }
    },
    {
      "cell_type": "code",
      "source": [
        "user_0 = {'username': 'efermi','first': 'enrico','last': 'fermi'}\n",
        "for key, value in user_0.items():\n",
        "  print(\"Key=\"+key,\"\\nvalue=\"+value+\"\\n\")"
      ],
      "metadata": {
        "colab": {
          "base_uri": "https://localhost:8080/"
        },
        "id": "3zBdzD1dlYA8",
        "outputId": "39ff1bae-5f03-4e1f-9de2-14671dcb0311"
      },
      "execution_count": null,
      "outputs": [
        {
          "output_type": "stream",
          "name": "stdout",
          "text": [
            "Key=username \n",
            "value=efermi\n",
            "\n",
            "Key=first \n",
            "value=enrico\n",
            "\n",
            "Key=last \n",
            "value=fermi\n",
            "\n"
          ]
        }
      ]
    },
    {
      "cell_type": "code",
      "source": [
        "favorite_languages = {\n",
        "'jen': 'python',\n",
        " 'sarah': 'c',\n",
        " 'edward': 'ruby',\n",
        " 'phil': 'python',\n",
        " }\n",
        "for name, language in favorite_languages.items():\n",
        "  print(name.title() + \"'s favorite language is \" +language.title() + \".\")"
      ],
      "metadata": {
        "colab": {
          "base_uri": "https://localhost:8080/"
        },
        "id": "-noIne8bnMrU",
        "outputId": "24aced5b-8f45-421a-89fa-8c1f71a4d711"
      },
      "execution_count": null,
      "outputs": [
        {
          "output_type": "stream",
          "name": "stdout",
          "text": [
            "Jen's favorite language is Python.\n",
            "Sarah's favorite language is C.\n",
            "Edward's favorite language is Ruby.\n",
            "Phil's favorite language is Python.\n"
          ]
        }
      ]
    },
    {
      "cell_type": "markdown",
      "source": [
        "## Looping Through All the Keys in a Dictionary"
      ],
      "metadata": {
        "id": "gZBtz2p4oH0j"
      }
    },
    {
      "cell_type": "code",
      "source": [
        "favorite_languages = {\n",
        " 'jen': 'python',\n",
        " 'sarah': 'c',\n",
        " 'edward': 'ruby',\n",
        " 'phil': 'python',\n",
        " }\n",
        "friends = ['phil', 'sarah']\n",
        "for name in favorite_languages.keys():\n",
        "   print(name.title())\n",
        "   if name in friends:\n",
        "     print(\"hi \"+name.title()+\" Your Favorite language is \"+ favorite_languages[name].title())\n",
        "     if 'erin' not in favorite_languages.keys():\n",
        "        print(\"Erin, please take our poll!\")   "
      ],
      "metadata": {
        "colab": {
          "base_uri": "https://localhost:8080/"
        },
        "id": "I63rIQLPoJMD",
        "outputId": "527c0466-23a1-4eda-f00a-7a3b32eb4a18"
      },
      "execution_count": null,
      "outputs": [
        {
          "output_type": "stream",
          "name": "stdout",
          "text": [
            "Jen\n",
            "Sarah\n",
            "hi Sarah Your Favorite language is C\n",
            "Erin, please take our poll!\n",
            "Edward\n",
            "Phil\n",
            "hi Phil Your Favorite language is Python\n",
            "Erin, please take our poll!\n"
          ]
        }
      ]
    },
    {
      "cell_type": "markdown",
      "source": [
        "## Looping Through a Dictionary’s Keys in Order and Looping Through All Values in a Dictionary"
      ],
      "metadata": {
        "id": "fSQS_xaRqJe3"
      }
    },
    {
      "cell_type": "code",
      "source": [
        "favorite_languages = {\n",
        " 'jen': 'python',\n",
        " 'sarah': 'c',\n",
        " 'edward': 'ruby',\n",
        " 'phil': 'python',\n",
        " }\n",
        "for name in (favorite_languages.keys()):                     #Looping Through a Dictionary’s Keys in Order\n",
        "   print(name.title()+\" Thank you for takimg your poll!\")\n",
        "for languages in (favorite_languages.values()):              #Looping Through All Values in a Dictionary\n",
        "  print(languages.title())\n",
        "for languages in set(favorite_languages.values()):           #Looping Through All Values except common value in a Dictionary\n",
        "  print(\"\\n\"+languages.title())"
      ],
      "metadata": {
        "colab": {
          "base_uri": "https://localhost:8080/"
        },
        "id": "Q3iVwMYzqK4u",
        "outputId": "d4c25c0f-8a96-480f-d649-6bbaa274eae7"
      },
      "execution_count": null,
      "outputs": [
        {
          "output_type": "stream",
          "name": "stdout",
          "text": [
            "Jen Thank you for takimg your poll!\n",
            "Sarah Thank you for takimg your poll!\n",
            "Edward Thank you for takimg your poll!\n",
            "Phil Thank you for takimg your poll!\n",
            "Python\n",
            "C\n",
            "Ruby\n",
            "Python\n",
            "\n",
            "Ruby\n",
            "\n",
            "C\n",
            "\n",
            "Python\n"
          ]
        }
      ]
    },
    {
      "cell_type": "markdown",
      "source": [
        "# Nesting\n",
        "Sometimes you’ll want to store a set of dictionaries in a list or a list of \n",
        "items as a value in a dictionary. This is called nesting.You can nest a set \n",
        "of dictionaries inside a list, a list of items inside a dictionary, or even a \n",
        "dictionary inside another dictionary. Nesting is a powerful feature, as the \n",
        "following examples will demonstrate"
      ],
      "metadata": {
        "id": "pW28w3m9sBOL"
      }
    },
    {
      "cell_type": "markdown",
      "source": [
        "## A List of Dictionaries"
      ],
      "metadata": {
        "id": "yNRir_HWsTGF"
      }
    },
    {
      "cell_type": "code",
      "source": [
        "alien_0 = {'color': 'green', 'points': 5}\n",
        "alien_1 = {'color': 'yellow', 'points': 10}\n",
        "alien_2 = {'color': 'red', 'points': 15}\n",
        "aliens = [alien_0, alien_1, alien_2]\n",
        "for alien in aliens:\n",
        "  print(alien)"
      ],
      "metadata": {
        "colab": {
          "base_uri": "https://localhost:8080/"
        },
        "id": "4XeWBkd2s4pF",
        "outputId": "b31ad9b9-5c97-4d3b-dd6d-9e61a6407c54"
      },
      "execution_count": null,
      "outputs": [
        {
          "output_type": "stream",
          "name": "stdout",
          "text": [
            "{'color': 'green', 'points': 5}\n",
            "{'color': 'yellow', 'points': 10}\n",
            "{'color': 'red', 'points': 15}\n"
          ]
        }
      ]
    },
    {
      "cell_type": "code",
      "source": [
        "  aliens = []\n",
        "  for alien_number in range(0,30):\n",
        "    new_alien = {'color': 'green', 'points': 5, 'speed': 'slow'}\n",
        "    aliens.append(new_alien)\n",
        "  for alien in aliens[:5]:\n",
        "    print(alien)\n",
        "  print(\"Total number of aliens: \" + str(len(aliens)))\n",
        "for alien in aliens[0:3]:\n",
        "    if alien['color'] == 'green':\n",
        "      alien['color'] = 'yellow'\n",
        "      alien['speed'] = 'medium'\n",
        "      alien['points'] = 10\n",
        "for alien in aliens[0:5]:\n",
        "   print(alien)\n",
        "  "
      ],
      "metadata": {
        "colab": {
          "base_uri": "https://localhost:8080/"
        },
        "id": "gXkeY7okzSv0",
        "outputId": "cc0cccfa-eda2-483f-ca37-ebe872148189"
      },
      "execution_count": null,
      "outputs": [
        {
          "output_type": "stream",
          "name": "stdout",
          "text": [
            "{'color': 'green', 'points': 5, 'speed': 'slow'}\n",
            "{'color': 'green', 'points': 5, 'speed': 'slow'}\n",
            "{'color': 'green', 'points': 5, 'speed': 'slow'}\n",
            "{'color': 'green', 'points': 5, 'speed': 'slow'}\n",
            "{'color': 'green', 'points': 5, 'speed': 'slow'}\n",
            "Total number of aliens: 30\n",
            "{'color': 'yellow', 'points': 10, 'speed': 'medium'}\n",
            "{'color': 'yellow', 'points': 10, 'speed': 'medium'}\n",
            "{'color': 'yellow', 'points': 10, 'speed': 'medium'}\n",
            "{'color': 'green', 'points': 5, 'speed': 'slow'}\n",
            "{'color': 'green', 'points': 5, 'speed': 'slow'}\n"
          ]
        }
      ]
    },
    {
      "cell_type": "markdown",
      "source": [
        "## A List in a Dictionary"
      ],
      "metadata": {
        "id": "WLDv81G9CIqe"
      }
    },
    {
      "cell_type": "code",
      "source": [
        "pizza = {\n",
        " 'crust': 'thick',\n",
        " 'toppings': ['mushrooms', 'extra cheese'],\n",
        " }\n",
        "# Summarize the order.\n",
        "print(\"You ordered a \" + pizza['crust'] + \"-crust pizza \" +\"with the following toppings:\")\n",
        "for topping in pizza['toppings']:\n",
        " print(\"\\t\" + topping)"
      ],
      "metadata": {
        "colab": {
          "base_uri": "https://localhost:8080/"
        },
        "id": "Jrsgv5VUCKEN",
        "outputId": "87b8cdfe-5f66-41bc-8d6a-12a7387c31e9"
      },
      "execution_count": null,
      "outputs": [
        {
          "output_type": "stream",
          "name": "stdout",
          "text": [
            "You ordered a thick-crust pizza with the following toppings:\n",
            "\tmushrooms\n",
            "\textra cheese\n"
          ]
        }
      ]
    },
    {
      "cell_type": "code",
      "source": [
        "favorite_languages = {'jen': ['python', 'ruby'],'sarah': ['c'],'edward': ['ruby', 'go'],'phil': ['python', 'haskell']}\n",
        "for name, languages in favorite_languages.items():\n",
        "  print(\"\\n\" + name.title() + \"'s favorite languages are:\")\n",
        "  for language in languages:\n",
        "      print(\"\\t\" + language.title())"
      ],
      "metadata": {
        "colab": {
          "base_uri": "https://localhost:8080/"
        },
        "id": "5WJu1S9JnKD-",
        "outputId": "7b1c0b2b-5403-4737-b4fa-027ff21dde54"
      },
      "execution_count": null,
      "outputs": [
        {
          "output_type": "stream",
          "name": "stdout",
          "text": [
            "\n",
            "Jen's favorite languages are:\n",
            "\tPython\n",
            "\tRuby\n",
            "\n",
            "Sarah's favorite languages are:\n",
            "\tC\n",
            "\n",
            "Edward's favorite languages are:\n",
            "\tRuby\n",
            "\tGo\n",
            "\n",
            "Phil's favorite languages are:\n",
            "\tPython\n",
            "\tHaskell\n"
          ]
        }
      ]
    }
  ]
}